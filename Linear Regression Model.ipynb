{
 "cells": [
  {
   "cell_type": "code",
   "execution_count": 2,
   "id": "47d8e04f",
   "metadata": {},
   "outputs": [],
   "source": [
    "import pandas as pd"
   ]
  },
  {
   "cell_type": "code",
   "execution_count": 3,
   "id": "34178c2e",
   "metadata": {},
   "outputs": [],
   "source": [
    "Raw_Housing_Data=pd.read_csv(\"Transformed_Housing_Data2[2].csv\")"
   ]
  },
  {
   "cell_type": "code",
   "execution_count": 4,
   "id": "7af4cc1d",
   "metadata": {},
   "outputs": [
    {
     "data": {
      "text/html": [
       "<div>\n",
       "<style scoped>\n",
       "    .dataframe tbody tr th:only-of-type {\n",
       "        vertical-align: middle;\n",
       "    }\n",
       "\n",
       "    .dataframe tbody tr th {\n",
       "        vertical-align: top;\n",
       "    }\n",
       "\n",
       "    .dataframe thead th {\n",
       "        text-align: right;\n",
       "    }\n",
       "</style>\n",
       "<table border=\"1\" class=\"dataframe\">\n",
       "  <thead>\n",
       "    <tr style=\"text-align: right;\">\n",
       "      <th></th>\n",
       "      <th>Sale_Price</th>\n",
       "      <th>No of Bedrooms</th>\n",
       "      <th>No of Bathrooms</th>\n",
       "      <th>Flat Area (in Sqft)</th>\n",
       "      <th>Lot Area (in Sqft)</th>\n",
       "      <th>No of Floors</th>\n",
       "      <th>No of Times Visited</th>\n",
       "      <th>Overall Grade</th>\n",
       "      <th>Area of the House from Basement (in Sqft)</th>\n",
       "      <th>Basement Area (in Sqft)</th>\n",
       "      <th>...</th>\n",
       "      <th>Waterfront_View_Yes</th>\n",
       "      <th>Zipcode_Group_Zipcode_Group_1</th>\n",
       "      <th>Zipcode_Group_Zipcode_Group_2</th>\n",
       "      <th>Zipcode_Group_Zipcode_Group_3</th>\n",
       "      <th>Zipcode_Group_Zipcode_Group_4</th>\n",
       "      <th>Zipcode_Group_Zipcode_Group_5</th>\n",
       "      <th>Zipcode_Group_Zipcode_Group_6</th>\n",
       "      <th>Zipcode_Group_Zipcode_Group_7</th>\n",
       "      <th>Zipcode_Group_Zipcode_Group_8</th>\n",
       "      <th>Zipcode_Group_Zipcode_Group_9</th>\n",
       "    </tr>\n",
       "  </thead>\n",
       "  <tbody>\n",
       "    <tr>\n",
       "      <th>0</th>\n",
       "      <td>221900.0</td>\n",
       "      <td>3</td>\n",
       "      <td>1.00</td>\n",
       "      <td>1180.0</td>\n",
       "      <td>5650.0</td>\n",
       "      <td>1.0</td>\n",
       "      <td>0</td>\n",
       "      <td>7</td>\n",
       "      <td>1180.0</td>\n",
       "      <td>0</td>\n",
       "      <td>...</td>\n",
       "      <td>0</td>\n",
       "      <td>0</td>\n",
       "      <td>0</td>\n",
       "      <td>0</td>\n",
       "      <td>0</td>\n",
       "      <td>0</td>\n",
       "      <td>0</td>\n",
       "      <td>0</td>\n",
       "      <td>0</td>\n",
       "      <td>0</td>\n",
       "    </tr>\n",
       "    <tr>\n",
       "      <th>1</th>\n",
       "      <td>538000.0</td>\n",
       "      <td>3</td>\n",
       "      <td>2.25</td>\n",
       "      <td>2570.0</td>\n",
       "      <td>7242.0</td>\n",
       "      <td>2.0</td>\n",
       "      <td>0</td>\n",
       "      <td>7</td>\n",
       "      <td>2170.0</td>\n",
       "      <td>400</td>\n",
       "      <td>...</td>\n",
       "      <td>0</td>\n",
       "      <td>0</td>\n",
       "      <td>1</td>\n",
       "      <td>0</td>\n",
       "      <td>0</td>\n",
       "      <td>0</td>\n",
       "      <td>0</td>\n",
       "      <td>0</td>\n",
       "      <td>0</td>\n",
       "      <td>0</td>\n",
       "    </tr>\n",
       "    <tr>\n",
       "      <th>2</th>\n",
       "      <td>180000.0</td>\n",
       "      <td>2</td>\n",
       "      <td>1.00</td>\n",
       "      <td>770.0</td>\n",
       "      <td>10000.0</td>\n",
       "      <td>1.0</td>\n",
       "      <td>0</td>\n",
       "      <td>6</td>\n",
       "      <td>770.0</td>\n",
       "      <td>0</td>\n",
       "      <td>...</td>\n",
       "      <td>0</td>\n",
       "      <td>0</td>\n",
       "      <td>1</td>\n",
       "      <td>0</td>\n",
       "      <td>0</td>\n",
       "      <td>0</td>\n",
       "      <td>0</td>\n",
       "      <td>0</td>\n",
       "      <td>0</td>\n",
       "      <td>0</td>\n",
       "    </tr>\n",
       "    <tr>\n",
       "      <th>3</th>\n",
       "      <td>604000.0</td>\n",
       "      <td>4</td>\n",
       "      <td>3.00</td>\n",
       "      <td>1960.0</td>\n",
       "      <td>5000.0</td>\n",
       "      <td>1.0</td>\n",
       "      <td>0</td>\n",
       "      <td>7</td>\n",
       "      <td>1050.0</td>\n",
       "      <td>910</td>\n",
       "      <td>...</td>\n",
       "      <td>0</td>\n",
       "      <td>0</td>\n",
       "      <td>0</td>\n",
       "      <td>1</td>\n",
       "      <td>0</td>\n",
       "      <td>0</td>\n",
       "      <td>0</td>\n",
       "      <td>0</td>\n",
       "      <td>0</td>\n",
       "      <td>0</td>\n",
       "    </tr>\n",
       "    <tr>\n",
       "      <th>4</th>\n",
       "      <td>510000.0</td>\n",
       "      <td>3</td>\n",
       "      <td>2.00</td>\n",
       "      <td>1680.0</td>\n",
       "      <td>8080.0</td>\n",
       "      <td>1.0</td>\n",
       "      <td>0</td>\n",
       "      <td>8</td>\n",
       "      <td>1680.0</td>\n",
       "      <td>0</td>\n",
       "      <td>...</td>\n",
       "      <td>0</td>\n",
       "      <td>0</td>\n",
       "      <td>0</td>\n",
       "      <td>0</td>\n",
       "      <td>1</td>\n",
       "      <td>0</td>\n",
       "      <td>0</td>\n",
       "      <td>0</td>\n",
       "      <td>0</td>\n",
       "      <td>0</td>\n",
       "    </tr>\n",
       "    <tr>\n",
       "      <th>...</th>\n",
       "      <td>...</td>\n",
       "      <td>...</td>\n",
       "      <td>...</td>\n",
       "      <td>...</td>\n",
       "      <td>...</td>\n",
       "      <td>...</td>\n",
       "      <td>...</td>\n",
       "      <td>...</td>\n",
       "      <td>...</td>\n",
       "      <td>...</td>\n",
       "      <td>...</td>\n",
       "      <td>...</td>\n",
       "      <td>...</td>\n",
       "      <td>...</td>\n",
       "      <td>...</td>\n",
       "      <td>...</td>\n",
       "      <td>...</td>\n",
       "      <td>...</td>\n",
       "      <td>...</td>\n",
       "      <td>...</td>\n",
       "      <td>...</td>\n",
       "    </tr>\n",
       "    <tr>\n",
       "      <th>21604</th>\n",
       "      <td>360000.0</td>\n",
       "      <td>3</td>\n",
       "      <td>2.50</td>\n",
       "      <td>1530.0</td>\n",
       "      <td>1131.0</td>\n",
       "      <td>3.0</td>\n",
       "      <td>0</td>\n",
       "      <td>8</td>\n",
       "      <td>1530.0</td>\n",
       "      <td>0</td>\n",
       "      <td>...</td>\n",
       "      <td>0</td>\n",
       "      <td>0</td>\n",
       "      <td>0</td>\n",
       "      <td>1</td>\n",
       "      <td>0</td>\n",
       "      <td>0</td>\n",
       "      <td>0</td>\n",
       "      <td>0</td>\n",
       "      <td>0</td>\n",
       "      <td>0</td>\n",
       "    </tr>\n",
       "    <tr>\n",
       "      <th>21605</th>\n",
       "      <td>400000.0</td>\n",
       "      <td>4</td>\n",
       "      <td>2.50</td>\n",
       "      <td>2310.0</td>\n",
       "      <td>5813.0</td>\n",
       "      <td>2.0</td>\n",
       "      <td>0</td>\n",
       "      <td>8</td>\n",
       "      <td>2310.0</td>\n",
       "      <td>0</td>\n",
       "      <td>...</td>\n",
       "      <td>0</td>\n",
       "      <td>1</td>\n",
       "      <td>0</td>\n",
       "      <td>0</td>\n",
       "      <td>0</td>\n",
       "      <td>0</td>\n",
       "      <td>0</td>\n",
       "      <td>0</td>\n",
       "      <td>0</td>\n",
       "      <td>0</td>\n",
       "    </tr>\n",
       "    <tr>\n",
       "      <th>21606</th>\n",
       "      <td>402101.0</td>\n",
       "      <td>2</td>\n",
       "      <td>0.75</td>\n",
       "      <td>1020.0</td>\n",
       "      <td>1350.0</td>\n",
       "      <td>2.0</td>\n",
       "      <td>0</td>\n",
       "      <td>7</td>\n",
       "      <td>1020.0</td>\n",
       "      <td>0</td>\n",
       "      <td>...</td>\n",
       "      <td>0</td>\n",
       "      <td>0</td>\n",
       "      <td>0</td>\n",
       "      <td>1</td>\n",
       "      <td>0</td>\n",
       "      <td>0</td>\n",
       "      <td>0</td>\n",
       "      <td>0</td>\n",
       "      <td>0</td>\n",
       "      <td>0</td>\n",
       "    </tr>\n",
       "    <tr>\n",
       "      <th>21607</th>\n",
       "      <td>400000.0</td>\n",
       "      <td>3</td>\n",
       "      <td>2.50</td>\n",
       "      <td>1600.0</td>\n",
       "      <td>2388.0</td>\n",
       "      <td>2.0</td>\n",
       "      <td>0</td>\n",
       "      <td>8</td>\n",
       "      <td>1600.0</td>\n",
       "      <td>0</td>\n",
       "      <td>...</td>\n",
       "      <td>0</td>\n",
       "      <td>0</td>\n",
       "      <td>0</td>\n",
       "      <td>0</td>\n",
       "      <td>1</td>\n",
       "      <td>0</td>\n",
       "      <td>0</td>\n",
       "      <td>0</td>\n",
       "      <td>0</td>\n",
       "      <td>0</td>\n",
       "    </tr>\n",
       "    <tr>\n",
       "      <th>21608</th>\n",
       "      <td>325000.0</td>\n",
       "      <td>2</td>\n",
       "      <td>0.75</td>\n",
       "      <td>1020.0</td>\n",
       "      <td>1076.0</td>\n",
       "      <td>2.0</td>\n",
       "      <td>0</td>\n",
       "      <td>7</td>\n",
       "      <td>1020.0</td>\n",
       "      <td>0</td>\n",
       "      <td>...</td>\n",
       "      <td>0</td>\n",
       "      <td>0</td>\n",
       "      <td>0</td>\n",
       "      <td>1</td>\n",
       "      <td>0</td>\n",
       "      <td>0</td>\n",
       "      <td>0</td>\n",
       "      <td>0</td>\n",
       "      <td>0</td>\n",
       "      <td>0</td>\n",
       "    </tr>\n",
       "  </tbody>\n",
       "</table>\n",
       "<p>21609 rows × 31 columns</p>\n",
       "</div>"
      ],
      "text/plain": [
       "       Sale_Price  No of Bedrooms  No of Bathrooms  Flat Area (in Sqft)  \\\n",
       "0        221900.0               3             1.00               1180.0   \n",
       "1        538000.0               3             2.25               2570.0   \n",
       "2        180000.0               2             1.00                770.0   \n",
       "3        604000.0               4             3.00               1960.0   \n",
       "4        510000.0               3             2.00               1680.0   \n",
       "...           ...             ...              ...                  ...   \n",
       "21604    360000.0               3             2.50               1530.0   \n",
       "21605    400000.0               4             2.50               2310.0   \n",
       "21606    402101.0               2             0.75               1020.0   \n",
       "21607    400000.0               3             2.50               1600.0   \n",
       "21608    325000.0               2             0.75               1020.0   \n",
       "\n",
       "       Lot Area (in Sqft)  No of Floors  No of Times Visited  Overall Grade  \\\n",
       "0                  5650.0           1.0                    0              7   \n",
       "1                  7242.0           2.0                    0              7   \n",
       "2                 10000.0           1.0                    0              6   \n",
       "3                  5000.0           1.0                    0              7   \n",
       "4                  8080.0           1.0                    0              8   \n",
       "...                   ...           ...                  ...            ...   \n",
       "21604              1131.0           3.0                    0              8   \n",
       "21605              5813.0           2.0                    0              8   \n",
       "21606              1350.0           2.0                    0              7   \n",
       "21607              2388.0           2.0                    0              8   \n",
       "21608              1076.0           2.0                    0              7   \n",
       "\n",
       "       Area of the House from Basement (in Sqft)  Basement Area (in Sqft)  \\\n",
       "0                                         1180.0                        0   \n",
       "1                                         2170.0                      400   \n",
       "2                                          770.0                        0   \n",
       "3                                         1050.0                      910   \n",
       "4                                         1680.0                        0   \n",
       "...                                          ...                      ...   \n",
       "21604                                     1530.0                        0   \n",
       "21605                                     2310.0                        0   \n",
       "21606                                     1020.0                        0   \n",
       "21607                                     1600.0                        0   \n",
       "21608                                     1020.0                        0   \n",
       "\n",
       "       ...  Waterfront_View_Yes  Zipcode_Group_Zipcode_Group_1  \\\n",
       "0      ...                    0                              0   \n",
       "1      ...                    0                              0   \n",
       "2      ...                    0                              0   \n",
       "3      ...                    0                              0   \n",
       "4      ...                    0                              0   \n",
       "...    ...                  ...                            ...   \n",
       "21604  ...                    0                              0   \n",
       "21605  ...                    0                              1   \n",
       "21606  ...                    0                              0   \n",
       "21607  ...                    0                              0   \n",
       "21608  ...                    0                              0   \n",
       "\n",
       "       Zipcode_Group_Zipcode_Group_2  Zipcode_Group_Zipcode_Group_3  \\\n",
       "0                                  0                              0   \n",
       "1                                  1                              0   \n",
       "2                                  1                              0   \n",
       "3                                  0                              1   \n",
       "4                                  0                              0   \n",
       "...                              ...                            ...   \n",
       "21604                              0                              1   \n",
       "21605                              0                              0   \n",
       "21606                              0                              1   \n",
       "21607                              0                              0   \n",
       "21608                              0                              1   \n",
       "\n",
       "       Zipcode_Group_Zipcode_Group_4  Zipcode_Group_Zipcode_Group_5  \\\n",
       "0                                  0                              0   \n",
       "1                                  0                              0   \n",
       "2                                  0                              0   \n",
       "3                                  0                              0   \n",
       "4                                  1                              0   \n",
       "...                              ...                            ...   \n",
       "21604                              0                              0   \n",
       "21605                              0                              0   \n",
       "21606                              0                              0   \n",
       "21607                              1                              0   \n",
       "21608                              0                              0   \n",
       "\n",
       "       Zipcode_Group_Zipcode_Group_6  Zipcode_Group_Zipcode_Group_7  \\\n",
       "0                                  0                              0   \n",
       "1                                  0                              0   \n",
       "2                                  0                              0   \n",
       "3                                  0                              0   \n",
       "4                                  0                              0   \n",
       "...                              ...                            ...   \n",
       "21604                              0                              0   \n",
       "21605                              0                              0   \n",
       "21606                              0                              0   \n",
       "21607                              0                              0   \n",
       "21608                              0                              0   \n",
       "\n",
       "       Zipcode_Group_Zipcode_Group_8  Zipcode_Group_Zipcode_Group_9  \n",
       "0                                  0                              0  \n",
       "1                                  0                              0  \n",
       "2                                  0                              0  \n",
       "3                                  0                              0  \n",
       "4                                  0                              0  \n",
       "...                              ...                            ...  \n",
       "21604                              0                              0  \n",
       "21605                              0                              0  \n",
       "21606                              0                              0  \n",
       "21607                              0                              0  \n",
       "21608                              0                              0  \n",
       "\n",
       "[21609 rows x 31 columns]"
      ]
     },
     "execution_count": 4,
     "metadata": {},
     "output_type": "execute_result"
    }
   ],
   "source": [
    "Raw_Housing_Data"
   ]
  },
  {
   "cell_type": "code",
   "execution_count": 6,
   "id": "4946247d",
   "metadata": {},
   "outputs": [
    {
     "data": {
      "text/plain": [
       "0    511618.558147\n",
       "1    511618.558147\n",
       "2    511618.558147\n",
       "3    511618.558147\n",
       "4    511618.558147\n",
       "Name: mean_sales, dtype: float64"
      ]
     },
     "execution_count": 6,
     "metadata": {},
     "output_type": "execute_result"
    }
   ],
   "source": [
    "Raw_Housing_Data['mean_sales']=Raw_Housing_Data['Sale_Price'].mean()\n",
    "Raw_Housing_Data['mean_sales'].head()"
   ]
  },
  {
   "cell_type": "code",
   "execution_count": 7,
   "id": "cdcb3e6a",
   "metadata": {},
   "outputs": [
    {
     "data": {
      "text/plain": [
       "<matplotlib.legend.Legend at 0x26c46c4a9a0>"
      ]
     },
     "execution_count": 7,
     "metadata": {},
     "output_type": "execute_result"
    },
    {
     "data": {
      "image/png": "[encoded data removed]",
      "text/plain": [
       "<Figure size 600x400 with 1 Axes>"
      ]
     },
     "metadata": {
      "needs_background": "light"
     },
     "output_type": "display_data"
    }
   ],
   "source": [
    "import matplotlib.pyplot as plt\n",
    "k=range(0,len(Raw_Housing_Data))\n",
    "plt.figure(dpi=100)\n",
    "plt.scatter(k,Raw_Housing_Data['Sale_Price'].sort_values(),color='green',label='Actual Sale Price')\n",
    "plt.plot(k,Raw_Housing_Data['mean_sales'].sort_values(),color='red',label='mean-price')\n",
    "plt.xlabel(\"Fitted Points(Ascending) \")\n",
    "plt.ylabel(\"Sale Price\")\n",
    "plt.title(\" Overall Mean\")\n",
    "plt.legend()"
   ]
  },
  {
   "cell_type": "code",
   "execution_count": 8,
   "id": "5b6bf0e2",
   "metadata": {},
   "outputs": [
    {
     "data": {
      "text/html": [
       "<div>\n",
       "<style scoped>\n",
       "    .dataframe tbody tr th:only-of-type {\n",
       "        vertical-align: middle;\n",
       "    }\n",
       "\n",
       "    .dataframe tbody tr th {\n",
       "        vertical-align: top;\n",
       "    }\n",
       "\n",
       "    .dataframe thead th {\n",
       "        text-align: right;\n",
       "    }\n",
       "</style>\n",
       "<table border=\"1\" class=\"dataframe\">\n",
       "  <thead>\n",
       "    <tr style=\"text-align: right;\">\n",
       "      <th>Overall Grade</th>\n",
       "      <th>1</th>\n",
       "      <th>2</th>\n",
       "      <th>3</th>\n",
       "      <th>4</th>\n",
       "      <th>5</th>\n",
       "      <th>6</th>\n",
       "      <th>7</th>\n",
       "      <th>8</th>\n",
       "      <th>9</th>\n",
       "      <th>10</th>\n",
       "    </tr>\n",
       "  </thead>\n",
       "  <tbody>\n",
       "    <tr>\n",
       "      <th>Sale_Price</th>\n",
       "      <td>142000.0</td>\n",
       "      <td>1129575.0</td>\n",
       "      <td>205666.666667</td>\n",
       "      <td>214381.034483</td>\n",
       "      <td>248523.971074</td>\n",
       "      <td>301882.01472</td>\n",
       "      <td>402239.619779</td>\n",
       "      <td>537584.082097</td>\n",
       "      <td>736936.769025</td>\n",
       "      <td>960408.078866</td>\n",
       "    </tr>\n",
       "  </tbody>\n",
       "</table>\n",
       "</div>"
      ],
      "text/plain": [
       "Overall Grade        1          2              3              4   \\\n",
       "Sale_Price     142000.0  1129575.0  205666.666667  214381.034483   \n",
       "\n",
       "Overall Grade             5             6              7              8   \\\n",
       "Sale_Price     248523.971074  301882.01472  402239.619779  537584.082097   \n",
       "\n",
       "Overall Grade             9              10  \n",
       "Sale_Price     736936.769025  960408.078866  "
      ]
     },
     "execution_count": 8,
     "metadata": {},
     "output_type": "execute_result"
    }
   ],
   "source": [
    "import numpy as np\n",
    "grades_mean=Raw_Housing_Data.pivot_table(values='Sale_Price',columns='Overall Grade',aggfunc=np.mean)\n",
    "grades_mean"
   ]
  },
  {
   "cell_type": "code",
   "execution_count": 9,
   "id": "ac6f1cc4",
   "metadata": {},
   "outputs": [
    {
     "name": "stderr",
     "output_type": "stream",
     "text": [
      "<ipython-input-9-7e7800c42a08>:5: SettingWithCopyWarning: \n",
      "A value is trying to be set on a copy of a slice from a DataFrame\n",
      "\n",
      "See the caveats in the documentation: https://pandas.pydata.org/pandas-docs/stable/user_guide/indexing.html#returning-a-view-versus-a-copy\n",
      "  Raw_Housing_Data['grade_mean'][Raw_Housing_Data['Overall Grade']==i]=grades_mean[i][0]\n"
     ]
    },
    {
     "data": {
      "text/plain": [
       "0    402239.619779\n",
       "1    402239.619779\n",
       "2    301882.014720\n",
       "3    402239.619779\n",
       "4    537584.082097\n",
       "Name: grade_mean, dtype: float64"
      ]
     },
     "execution_count": 9,
     "metadata": {},
     "output_type": "execute_result"
    }
   ],
   "source": [
    "#making a new column\n",
    "Raw_Housing_Data['grade_mean']=0\n",
    "#for every grade its mean price in new column\n",
    "for i in grades_mean.columns:\n",
    " Raw_Housing_Data['grade_mean'][Raw_Housing_Data['Overall Grade']==i]=grades_mean[i][0]\n",
    "    \n",
    "Raw_Housing_Data['grade_mean'].head()\n",
    "    "
   ]
  },
  {
   "cell_type": "code",
   "execution_count": 10,
   "id": "8eff9d43",
   "metadata": {},
   "outputs": [],
   "source": [
    "gradewise_list=[]\n",
    "for i in range(1,11):\n",
    "    k=Raw_Housing_Data['Sale_Price'][Raw_Housing_Data['Overall Grade']==i]\n",
    "    gradewise_list.append(k)"
   ]
  },
  {
   "cell_type": "code",
   "execution_count": 11,
   "id": "2d65cfc5",
   "metadata": {},
   "outputs": [],
   "source": [
    "classwise_list=[]\n",
    "for i in range(1,11):\n",
    "    k=Raw_Housing_Data['Sale_Price'][Raw_Housing_Data['Overall Grade']==i]\n",
    "    classwise_list.append(k)"
   ]
  },
  {
   "cell_type": "code",
   "execution_count": 12,
   "id": "54d46a6a",
   "metadata": {},
   "outputs": [
    {
     "ename": "ValueError",
     "evalue": "x and y must be the same size",
     "output_type": "error",
     "traceback": [
      "\u001b[1;31m---------------------------------------------------------------------------\u001b[0m",
      "\u001b[1;31mValueError\u001b[0m                                Traceback (most recent call last)",
      "\u001b[1;32m<ipython-input-12-d243bd0b26fc>\u001b[0m in \u001b[0;36m<module>\u001b[1;34m\u001b[0m\n\u001b[0;32m      7\u001b[0m                         s=6,color='pink')\n\u001b[0;32m      8\u001b[0m     \u001b[0mz\u001b[0m\u001b[1;33m=\u001b[0m\u001b[0mmax\u001b[0m\u001b[1;33m(\u001b[0m\u001b[0mpoints\u001b[0m\u001b[1;33m)\u001b[0m\u001b[1;33m+\u001b[0m\u001b[1;36m1\u001b[0m\u001b[1;33m\u001b[0m\u001b[1;33m\u001b[0m\u001b[0m\n\u001b[1;32m----> 9\u001b[1;33m     \u001b[0mplt\u001b[0m\u001b[1;33m.\u001b[0m\u001b[0mscatter\u001b[0m\u001b[1;33m(\u001b[0m\u001b[1;33m[\u001b[0m\u001b[0mq\u001b[0m \u001b[1;32mfor\u001b[0m \u001b[0mq\u001b[0m \u001b[1;32min\u001b[0m \u001b[0mrange\u001b[0m\u001b[1;33m(\u001b[0m\u001b[1;36m0\u001b[0m\u001b[1;33m,\u001b[0m\u001b[0mz\u001b[0m\u001b[1;33m)\u001b[0m\u001b[1;33m]\u001b[0m\u001b[1;33m,\u001b[0m\u001b[0mRaw_Housing_Data\u001b[0m\u001b[1;33m[\u001b[0m\u001b[1;34m'mean_sales'\u001b[0m\u001b[1;33m]\u001b[0m\u001b[1;33m,\u001b[0m\u001b[0mcolor\u001b[0m\u001b[1;33m=\u001b[0m\u001b[1;34m\"red\"\u001b[0m\u001b[1;33m,\u001b[0m\u001b[0mlabel\u001b[0m\u001b[1;33m=\u001b[0m\u001b[1;34m\"overall mean\"\u001b[0m\u001b[1;33m,\u001b[0m\u001b[0ms\u001b[0m\u001b[1;33m=\u001b[0m\u001b[1;36m6\u001b[0m\u001b[1;33m)\u001b[0m\u001b[1;33m\u001b[0m\u001b[1;33m\u001b[0m\u001b[0m\n\u001b[0m\u001b[0;32m     10\u001b[0m \u001b[1;33m\u001b[0m\u001b[0m\n\u001b[0;32m     11\u001b[0m \u001b[0mplt\u001b[0m\u001b[1;33m.\u001b[0m\u001b[0mxlabel\u001b[0m\u001b[1;33m(\u001b[0m\u001b[1;34m\" Filtered Price\"\u001b[0m\u001b[1;33m)\u001b[0m\u001b[1;33m\u001b[0m\u001b[1;33m\u001b[0m\u001b[0m\n",
      "\u001b[1;32m~\\ANACONDA\\lib\\site-packages\\matplotlib\\pyplot.py\u001b[0m in \u001b[0;36mscatter\u001b[1;34m(x, y, s, c, marker, cmap, norm, vmin, vmax, alpha, linewidths, verts, edgecolors, plotnonfinite, data, **kwargs)\u001b[0m\n\u001b[0;32m   2888\u001b[0m         \u001b[0mverts\u001b[0m\u001b[1;33m=\u001b[0m\u001b[0mcbook\u001b[0m\u001b[1;33m.\u001b[0m\u001b[0mdeprecation\u001b[0m\u001b[1;33m.\u001b[0m\u001b[0m_deprecated_parameter\u001b[0m\u001b[1;33m,\u001b[0m\u001b[1;33m\u001b[0m\u001b[1;33m\u001b[0m\u001b[0m\n\u001b[0;32m   2889\u001b[0m         edgecolors=None, *, plotnonfinite=False, data=None, **kwargs):\n\u001b[1;32m-> 2890\u001b[1;33m     __ret = gca().scatter(\n\u001b[0m\u001b[0;32m   2891\u001b[0m         \u001b[0mx\u001b[0m\u001b[1;33m,\u001b[0m \u001b[0my\u001b[0m\u001b[1;33m,\u001b[0m \u001b[0ms\u001b[0m\u001b[1;33m=\u001b[0m\u001b[0ms\u001b[0m\u001b[1;33m,\u001b[0m \u001b[0mc\u001b[0m\u001b[1;33m=\u001b[0m\u001b[0mc\u001b[0m\u001b[1;33m,\u001b[0m \u001b[0mmarker\u001b[0m\u001b[1;33m=\u001b[0m\u001b[0mmarker\u001b[0m\u001b[1;33m,\u001b[0m \u001b[0mcmap\u001b[0m\u001b[1;33m=\u001b[0m\u001b[0mcmap\u001b[0m\u001b[1;33m,\u001b[0m \u001b[0mnorm\u001b[0m\u001b[1;33m=\u001b[0m\u001b[0mnorm\u001b[0m\u001b[1;33m,\u001b[0m\u001b[1;33m\u001b[0m\u001b[1;33m\u001b[0m\u001b[0m\n\u001b[0;32m   2892\u001b[0m         \u001b[0mvmin\u001b[0m\u001b[1;33m=\u001b[0m\u001b[0mvmin\u001b[0m\u001b[1;33m,\u001b[0m \u001b[0mvmax\u001b[0m\u001b[1;33m=\u001b[0m\u001b[0mvmax\u001b[0m\u001b[1;33m,\u001b[0m \u001b[0malpha\u001b[0m\u001b[1;33m=\u001b[0m\u001b[0malpha\u001b[0m\u001b[1;33m,\u001b[0m \u001b[0mlinewidths\u001b[0m\u001b[1;33m=\u001b[0m\u001b[0mlinewidths\u001b[0m\u001b[1;33m,\u001b[0m\u001b[1;33m\u001b[0m\u001b[1;33m\u001b[0m\u001b[0m\n",
      "\u001b[1;32m~\\ANACONDA\\lib\\site-packages\\matplotlib\\__init__.py\u001b[0m in \u001b[0;36minner\u001b[1;34m(ax, data, *args, **kwargs)\u001b[0m\n\u001b[0;32m   1445\u001b[0m     \u001b[1;32mdef\u001b[0m \u001b[0minner\u001b[0m\u001b[1;33m(\u001b[0m\u001b[0max\u001b[0m\u001b[1;33m,\u001b[0m \u001b[1;33m*\u001b[0m\u001b[0margs\u001b[0m\u001b[1;33m,\u001b[0m \u001b[0mdata\u001b[0m\u001b[1;33m=\u001b[0m\u001b[1;32mNone\u001b[0m\u001b[1;33m,\u001b[0m \u001b[1;33m**\u001b[0m\u001b[0mkwargs\u001b[0m\u001b[1;33m)\u001b[0m\u001b[1;33m:\u001b[0m\u001b[1;33m\u001b[0m\u001b[1;33m\u001b[0m\u001b[0m\n\u001b[0;32m   1446\u001b[0m         \u001b[1;32mif\u001b[0m \u001b[0mdata\u001b[0m \u001b[1;32mis\u001b[0m \u001b[1;32mNone\u001b[0m\u001b[1;33m:\u001b[0m\u001b[1;33m\u001b[0m\u001b[1;33m\u001b[0m\u001b[0m\n\u001b[1;32m-> 1447\u001b[1;33m             \u001b[1;32mreturn\u001b[0m \u001b[0mfunc\u001b[0m\u001b[1;33m(\u001b[0m\u001b[0max\u001b[0m\u001b[1;33m,\u001b[0m \u001b[1;33m*\u001b[0m\u001b[0mmap\u001b[0m\u001b[1;33m(\u001b[0m\u001b[0msanitize_sequence\u001b[0m\u001b[1;33m,\u001b[0m \u001b[0margs\u001b[0m\u001b[1;33m)\u001b[0m\u001b[1;33m,\u001b[0m \u001b[1;33m**\u001b[0m\u001b[0mkwargs\u001b[0m\u001b[1;33m)\u001b[0m\u001b[1;33m\u001b[0m\u001b[1;33m\u001b[0m\u001b[0m\n\u001b[0m\u001b[0;32m   1448\u001b[0m \u001b[1;33m\u001b[0m\u001b[0m\n\u001b[0;32m   1449\u001b[0m         \u001b[0mbound\u001b[0m \u001b[1;33m=\u001b[0m \u001b[0mnew_sig\u001b[0m\u001b[1;33m.\u001b[0m\u001b[0mbind\u001b[0m\u001b[1;33m(\u001b[0m\u001b[0max\u001b[0m\u001b[1;33m,\u001b[0m \u001b[1;33m*\u001b[0m\u001b[0margs\u001b[0m\u001b[1;33m,\u001b[0m \u001b[1;33m**\u001b[0m\u001b[0mkwargs\u001b[0m\u001b[1;33m)\u001b[0m\u001b[1;33m\u001b[0m\u001b[1;33m\u001b[0m\u001b[0m\n",
      "\u001b[1;32m~\\ANACONDA\\lib\\site-packages\\matplotlib\\cbook\\deprecation.py\u001b[0m in \u001b[0;36mwrapper\u001b[1;34m(*inner_args, **inner_kwargs)\u001b[0m\n\u001b[0;32m    409\u001b[0m                          \u001b[1;32melse\u001b[0m \u001b[0mdeprecation_addendum\u001b[0m\u001b[1;33m,\u001b[0m\u001b[1;33m\u001b[0m\u001b[1;33m\u001b[0m\u001b[0m\n\u001b[0;32m    410\u001b[0m                 **kwargs)\n\u001b[1;32m--> 411\u001b[1;33m         \u001b[1;32mreturn\u001b[0m \u001b[0mfunc\u001b[0m\u001b[1;33m(\u001b[0m\u001b[1;33m*\u001b[0m\u001b[0minner_args\u001b[0m\u001b[1;33m,\u001b[0m \u001b[1;33m**\u001b[0m\u001b[0minner_kwargs\u001b[0m\u001b[1;33m)\u001b[0m\u001b[1;33m\u001b[0m\u001b[1;33m\u001b[0m\u001b[0m\n\u001b[0m\u001b[0;32m    412\u001b[0m \u001b[1;33m\u001b[0m\u001b[0m\n\u001b[0;32m    413\u001b[0m     \u001b[1;32mreturn\u001b[0m \u001b[0mwrapper\u001b[0m\u001b[1;33m\u001b[0m\u001b[1;33m\u001b[0m\u001b[0m\n",
      "\u001b[1;32m~\\ANACONDA\\lib\\site-packages\\matplotlib\\axes\\_axes.py\u001b[0m in \u001b[0;36mscatter\u001b[1;34m(self, x, y, s, c, marker, cmap, norm, vmin, vmax, alpha, linewidths, verts, edgecolors, plotnonfinite, **kwargs)\u001b[0m\n\u001b[0;32m   4439\u001b[0m         \u001b[0my\u001b[0m \u001b[1;33m=\u001b[0m \u001b[0mnp\u001b[0m\u001b[1;33m.\u001b[0m\u001b[0mma\u001b[0m\u001b[1;33m.\u001b[0m\u001b[0mravel\u001b[0m\u001b[1;33m(\u001b[0m\u001b[0my\u001b[0m\u001b[1;33m)\u001b[0m\u001b[1;33m\u001b[0m\u001b[1;33m\u001b[0m\u001b[0m\n\u001b[0;32m   4440\u001b[0m         \u001b[1;32mif\u001b[0m \u001b[0mx\u001b[0m\u001b[1;33m.\u001b[0m\u001b[0msize\u001b[0m \u001b[1;33m!=\u001b[0m \u001b[0my\u001b[0m\u001b[1;33m.\u001b[0m\u001b[0msize\u001b[0m\u001b[1;33m:\u001b[0m\u001b[1;33m\u001b[0m\u001b[1;33m\u001b[0m\u001b[0m\n\u001b[1;32m-> 4441\u001b[1;33m             \u001b[1;32mraise\u001b[0m \u001b[0mValueError\u001b[0m\u001b[1;33m(\u001b[0m\u001b[1;34m\"x and y must be the same size\"\u001b[0m\u001b[1;33m)\u001b[0m\u001b[1;33m\u001b[0m\u001b[1;33m\u001b[0m\u001b[0m\n\u001b[0m\u001b[0;32m   4442\u001b[0m \u001b[1;33m\u001b[0m\u001b[0m\n\u001b[0;32m   4443\u001b[0m         \u001b[1;32mif\u001b[0m \u001b[0ms\u001b[0m \u001b[1;32mis\u001b[0m \u001b[1;32mNone\u001b[0m\u001b[1;33m:\u001b[0m\u001b[1;33m\u001b[0m\u001b[1;33m\u001b[0m\u001b[0m\n",
      "\u001b[1;31mValueError\u001b[0m: x and y must be the same size"
     ]
    },
    {
     "data": {
      "image/png": "[encoded data removed]",
      "text/plain": [
       "<Figure size 1500x900 with 1 Axes>"
      ]
     },
     "metadata": {
      "needs_background": "light"
     },
     "output_type": "display_data"
    }
   ],
   "source": [
    "plt.figure(dpi=100,figsize=(15,9))\n",
    "z=0\n",
    "for i in range(1,11):\n",
    "    points=[k for k in range(z,z+len(classwise_list[i-1]))]\n",
    "    plt.scatter(points,classwise_list[i-1].sort_values(),label=('House with overall grade',i),s=4)\n",
    "    plt.scatter(points,[classwise_list[i-1].mean() for q in range(len(classwise_list[i-1]))],\n",
    "                        s=6,color='pink')\n",
    "    z=max(points)+1\n",
    "    plt.scatter([q for q in range(0,z)],Raw_Housing_Data['mean_sales'],color=\"red\",label=\"overall mean\",s=6)\n",
    "                                   \n",
    "plt.xlabel(\" Filtered Price\")\n",
    "plt.ylabel(\"Sale_Price\")\n",
    "plt.title(\"Overall_Mean1\")\n",
    "plt.legend(loc=4)\n",
    "         \n",
    "        \n",
    "\n"
   ]
  },
  {
   "cell_type": "code",
   "execution_count": 13,
   "id": "490b3b93",
   "metadata": {},
   "outputs": [],
   "source": [
    "mean_difference=Raw_Housing_Data['mean_sales']-Raw_Housing_Data['Sale_Price']\n",
    "grade_mean_difference=Raw_Housing_Data['grade_mean']-Raw_Housing_Data['Sale_Price']"
   ]
  },
  {
   "cell_type": "code",
   "execution_count": 14,
   "id": "70601e2d",
   "metadata": {},
   "outputs": [
    {
     "name": "stderr",
     "output_type": "stream",
     "text": [
      "<ipython-input-14-12eaefc5eaf6>:10: MatplotlibDeprecationWarning: Adding an axes using the same arguments as a previous axes currently reuses the earlier instance.  In a future version, a new instance will always be created and returned.  Meanwhile, this warning can be suppressed, and the future behavior ensured, by passing a unique label to each axes instance.\n",
      "  plt.subplot(1,2,1)\n"
     ]
    },
    {
     "data": {
      "text/plain": [
       "<matplotlib.legend.Legend at 0x26c478082b0>"
      ]
     },
     "execution_count": 14,
     "metadata": {},
     "output_type": "execute_result"
    },
    {
     "data": {
      "image/png": "[encoded data removed]",
      "text/plain": [
       "<Figure size 1500x600 with 1 Axes>"
      ]
     },
     "metadata": {
      "needs_background": "light"
     },
     "output_type": "display_data"
    }
   ],
   "source": [
    "k=range(0,len(Raw_Housing_Data))\n",
    "l=[0 for i in range(len(Raw_Housing_Data))]\n",
    "plt.figure(figsize=(15,6),dpi=100)\n",
    "plt.subplot(1,2,1)\n",
    "plt.scatter(k,mean_difference,color='red',label='residuals',s=2)\n",
    "plt.plot(k,l,color='green',label='residuals',linewidth=3)\n",
    "plt.xlabel(\"Fitted points\")\n",
    "plt.ylabel(\"residuals\")\n",
    "plt.title(\"residuals with respect to gradewisemean\")\n",
    "plt.subplot(1,2,1)\n",
    "plt.scatter(k,mean_difference,color='red',label='residuals',s=2)\n",
    "plt.plot(k,l,color='green',label='residuals',linewidth=3)\n",
    "plt.xlabel(\"Fitted points\")\n",
    "plt.ylabel(\"residuals\")\n",
    "plt.legend()\n",
    "plt.title(\"residuals with respect to gradewisemean\")\n",
    "plt.legend()"
   ]
  },
  {
   "cell_type": "code",
   "execution_count": 17,
   "id": "1179849f",
   "metadata": {},
   "outputs": [
    {
     "name": "stdout",
     "output_type": "stream",
     "text": [
      "0.0\n"
     ]
    }
   ],
   "source": [
    "cost=sum(mean_difference)/len(Raw_Housing_Data)\n",
    "print(round(cost,7))"
   ]
  },
  {
   "cell_type": "code",
   "execution_count": 16,
   "id": "c67b9f5d",
   "metadata": {},
   "outputs": [
    {
     "data": {
      "text/plain": [
       "(21609, 21609, 21609, 21609)"
      ]
     },
     "execution_count": 16,
     "metadata": {},
     "output_type": "execute_result"
    }
   ],
   "source": [
    "Y=Raw_Housing_Data['Sale_Price']\n",
    "y_hat1=Raw_Housing_Data['mean_sales']\n",
    "y_hat2=Raw_Housing_Data['grade_mean']\n",
    "n=len(Raw_Housing_Data)\n",
    "len(Y),len(y_hat1),len(y_hat2),n"
   ]
  },
  {
   "cell_type": "code",
   "execution_count": 18,
   "id": "3cd79751",
   "metadata": {},
   "outputs": [
    {
     "data": {
      "text/plain": [
       "199168.78146839526"
      ]
     },
     "execution_count": 18,
     "metadata": {},
     "output_type": "execute_result"
    }
   ],
   "source": [
    "cost_mean=sum(abs(y_hat1-Y))/n\n",
    "cost_mean"
   ]
  },
  {
   "cell_type": "code",
   "execution_count": 19,
   "id": "dc8147ed",
   "metadata": {},
   "outputs": [
    {
     "data": {
      "text/plain": [
       "137081.70298203363"
      ]
     },
     "execution_count": 19,
     "metadata": {},
     "output_type": "execute_result"
    }
   ],
   "source": [
    "cost_grade_mean=sum(abs(y_hat2-Y))/n\n",
    "cost_grade_mean"
   ]
  },
  {
   "cell_type": "code",
   "execution_count": 20,
   "id": "e9045614",
   "metadata": {},
   "outputs": [
    {
     "data": {
      "text/plain": [
       "137081.7029820291"
      ]
     },
     "execution_count": 20,
     "metadata": {},
     "output_type": "execute_result"
    }
   ],
   "source": [
    "import sklearn\n",
    "from sklearn.metrics import mean_absolute_error\n",
    "cost_grade_mean=mean_absolute_error(y_hat2,Y)\n",
    "cost_grade_mean"
   ]
  },
  {
   "cell_type": "code",
   "execution_count": 21,
   "id": "438e6b66",
   "metadata": {},
   "outputs": [
    {
     "data": {
      "text/plain": [
       "(30804835720.342426, 30804835720.342426)"
      ]
     },
     "execution_count": 21,
     "metadata": {},
     "output_type": "execute_result"
    }
   ],
   "source": [
    "from sklearn.metrics import mean_squared_error\n",
    "cost_mean=mean_squared_error(y_hat2,Y)\n",
    "cost_grade_mean=mean_squared_error(y_hat2,Y)\n",
    "cost_mean,cost_grade_mean"
   ]
  },
  {
   "cell_type": "code",
   "execution_count": 22,
   "id": "c03fc0cf",
   "metadata": {},
   "outputs": [
    {
     "data": {
      "text/plain": [
       "(250056.2273725643, 175513.06424406826)"
      ]
     },
     "execution_count": 22,
     "metadata": {},
     "output_type": "execute_result"
    }
   ],
   "source": [
    "from sklearn.metrics import mean_squared_error\n",
    "cost_mean=mean_squared_error(y_hat1,Y)**0.5\n",
    "cost_grade_mean=mean_squared_error(y_hat2,Y)**0.5\n",
    "cost_mean,cost_grade_mean"
   ]
  },
  {
   "cell_type": "code",
   "execution_count": 23,
   "id": "e6ba8699",
   "metadata": {},
   "outputs": [
    {
     "ename": "SyntaxError",
     "evalue": "invalid syntax (<ipython-input-23-712c0a1f0cac>, line 2)",
     "output_type": "error",
     "traceback": [
      "\u001b[1;36m  File \u001b[1;32m\"<ipython-input-23-712c0a1f0cac>\"\u001b[1;36m, line \u001b[1;32m2\u001b[0m\n\u001b[1;33m    y_hat1=Raw_Housing_Data['mean_sales']\u001b[0m\n\u001b[1;37m    ^\u001b[0m\n\u001b[1;31mSyntaxError\u001b[0m\u001b[1;31m:\u001b[0m invalid syntax\n"
     ]
    }
   ],
   "source": [
    "Y=Raw_Housing_Data[['Sale_Price']\n",
    "y_hat1=Raw_Housing_Data['mean_sales']\n",
    "y_hat2=Raw_Housing_Data['grade_mean']\n",
    "n=len(Raw_Housing_Data)\n",
    "len(Y),len(y_hat1),len(y_hat2),n\n",
    "                   \n",
    "                   "
   ]
  },
  {
   "cell_type": "code",
   "execution_count": 24,
   "id": "aa1290b3",
   "metadata": {},
   "outputs": [
    {
     "data": {
      "text/plain": [
       "62528116847.799576"
      ]
     },
     "execution_count": 24,
     "metadata": {},
     "output_type": "execute_result"
    }
   ],
   "source": [
    "mse_mean=mean_squared_error(y_hat1,Y)\n",
    "mse_mean"
   ]
  },
  {
   "cell_type": "code",
   "execution_count": 25,
   "id": "909daeb9",
   "metadata": {},
   "outputs": [
    {
     "data": {
      "text/plain": [
       "62528116847.799576"
      ]
     },
     "execution_count": 25,
     "metadata": {},
     "output_type": "execute_result"
    }
   ],
   "source": [
    "mse_model=mean_squared_error(y_hat1,Y)\n",
    "mse_model"
   ]
  },
  {
   "cell_type": "code",
   "execution_count": 26,
   "id": "084d165c",
   "metadata": {},
   "outputs": [
    {
     "data": {
      "text/plain": [
       "0.0"
      ]
     },
     "execution_count": 26,
     "metadata": {},
     "output_type": "execute_result"
    }
   ],
   "source": [
    "R2=1-(mse_model)/(mse_mean)\n",
    "R2"
   ]
  },
  {
   "cell_type": "code",
   "execution_count": 38,
   "id": "1c51ead3",
   "metadata": {},
   "outputs": [
    {
     "data": {
      "text/html": [
       "<div>\n",
       "<style scoped>\n",
       "    .dataframe tbody tr th:only-of-type {\n",
       "        vertical-align: middle;\n",
       "    }\n",
       "\n",
       "    .dataframe tbody tr th {\n",
       "        vertical-align: top;\n",
       "    }\n",
       "\n",
       "    .dataframe thead th {\n",
       "        text-align: right;\n",
       "    }\n",
       "</style>\n",
       "<table border=\"1\" class=\"dataframe\">\n",
       "  <thead>\n",
       "    <tr style=\"text-align: right;\">\n",
       "      <th></th>\n",
       "      <th>Sale_Price</th>\n",
       "      <th>No of Bedrooms</th>\n",
       "      <th>No of Bathrooms</th>\n",
       "      <th>Flat Area (in Sqft)</th>\n",
       "      <th>Lot Area (in Sqft)</th>\n",
       "      <th>No of Floors</th>\n",
       "      <th>No of Times Visited</th>\n",
       "      <th>Overall Grade</th>\n",
       "      <th>Area of the House from Basement (in Sqft)</th>\n",
       "      <th>Basement Area (in Sqft)</th>\n",
       "      <th>...</th>\n",
       "      <th>Zipcode_Group_Zipcode_Group_2</th>\n",
       "      <th>Zipcode_Group_Zipcode_Group_3</th>\n",
       "      <th>Zipcode_Group_Zipcode_Group_4</th>\n",
       "      <th>Zipcode_Group_Zipcode_Group_5</th>\n",
       "      <th>Zipcode_Group_Zipcode_Group_6</th>\n",
       "      <th>Zipcode_Group_Zipcode_Group_7</th>\n",
       "      <th>Zipcode_Group_Zipcode_Group_8</th>\n",
       "      <th>Zipcode_Group_Zipcode_Group_9</th>\n",
       "      <th>mean_sales</th>\n",
       "      <th>grade_mean</th>\n",
       "    </tr>\n",
       "  </thead>\n",
       "  <tbody>\n",
       "    <tr>\n",
       "      <th>0</th>\n",
       "      <td>221900.0</td>\n",
       "      <td>3</td>\n",
       "      <td>1.00</td>\n",
       "      <td>1180.0</td>\n",
       "      <td>5650.0</td>\n",
       "      <td>1.0</td>\n",
       "      <td>0</td>\n",
       "      <td>7</td>\n",
       "      <td>1180.0</td>\n",
       "      <td>0</td>\n",
       "      <td>...</td>\n",
       "      <td>0</td>\n",
       "      <td>0</td>\n",
       "      <td>0</td>\n",
       "      <td>0</td>\n",
       "      <td>0</td>\n",
       "      <td>0</td>\n",
       "      <td>0</td>\n",
       "      <td>0</td>\n",
       "      <td>511618.558147</td>\n",
       "      <td>402239.619779</td>\n",
       "    </tr>\n",
       "    <tr>\n",
       "      <th>1</th>\n",
       "      <td>538000.0</td>\n",
       "      <td>3</td>\n",
       "      <td>2.25</td>\n",
       "      <td>2570.0</td>\n",
       "      <td>7242.0</td>\n",
       "      <td>2.0</td>\n",
       "      <td>0</td>\n",
       "      <td>7</td>\n",
       "      <td>2170.0</td>\n",
       "      <td>400</td>\n",
       "      <td>...</td>\n",
       "      <td>1</td>\n",
       "      <td>0</td>\n",
       "      <td>0</td>\n",
       "      <td>0</td>\n",
       "      <td>0</td>\n",
       "      <td>0</td>\n",
       "      <td>0</td>\n",
       "      <td>0</td>\n",
       "      <td>511618.558147</td>\n",
       "      <td>402239.619779</td>\n",
       "    </tr>\n",
       "    <tr>\n",
       "      <th>2</th>\n",
       "      <td>180000.0</td>\n",
       "      <td>2</td>\n",
       "      <td>1.00</td>\n",
       "      <td>770.0</td>\n",
       "      <td>10000.0</td>\n",
       "      <td>1.0</td>\n",
       "      <td>0</td>\n",
       "      <td>6</td>\n",
       "      <td>770.0</td>\n",
       "      <td>0</td>\n",
       "      <td>...</td>\n",
       "      <td>1</td>\n",
       "      <td>0</td>\n",
       "      <td>0</td>\n",
       "      <td>0</td>\n",
       "      <td>0</td>\n",
       "      <td>0</td>\n",
       "      <td>0</td>\n",
       "      <td>0</td>\n",
       "      <td>511618.558147</td>\n",
       "      <td>301882.014720</td>\n",
       "    </tr>\n",
       "    <tr>\n",
       "      <th>3</th>\n",
       "      <td>604000.0</td>\n",
       "      <td>4</td>\n",
       "      <td>3.00</td>\n",
       "      <td>1960.0</td>\n",
       "      <td>5000.0</td>\n",
       "      <td>1.0</td>\n",
       "      <td>0</td>\n",
       "      <td>7</td>\n",
       "      <td>1050.0</td>\n",
       "      <td>910</td>\n",
       "      <td>...</td>\n",
       "      <td>0</td>\n",
       "      <td>1</td>\n",
       "      <td>0</td>\n",
       "      <td>0</td>\n",
       "      <td>0</td>\n",
       "      <td>0</td>\n",
       "      <td>0</td>\n",
       "      <td>0</td>\n",
       "      <td>511618.558147</td>\n",
       "      <td>402239.619779</td>\n",
       "    </tr>\n",
       "    <tr>\n",
       "      <th>4</th>\n",
       "      <td>510000.0</td>\n",
       "      <td>3</td>\n",
       "      <td>2.00</td>\n",
       "      <td>1680.0</td>\n",
       "      <td>8080.0</td>\n",
       "      <td>1.0</td>\n",
       "      <td>0</td>\n",
       "      <td>8</td>\n",
       "      <td>1680.0</td>\n",
       "      <td>0</td>\n",
       "      <td>...</td>\n",
       "      <td>0</td>\n",
       "      <td>0</td>\n",
       "      <td>1</td>\n",
       "      <td>0</td>\n",
       "      <td>0</td>\n",
       "      <td>0</td>\n",
       "      <td>0</td>\n",
       "      <td>0</td>\n",
       "      <td>511618.558147</td>\n",
       "      <td>537584.082097</td>\n",
       "    </tr>\n",
       "    <tr>\n",
       "      <th>...</th>\n",
       "      <td>...</td>\n",
       "      <td>...</td>\n",
       "      <td>...</td>\n",
       "      <td>...</td>\n",
       "      <td>...</td>\n",
       "      <td>...</td>\n",
       "      <td>...</td>\n",
       "      <td>...</td>\n",
       "      <td>...</td>\n",
       "      <td>...</td>\n",
       "      <td>...</td>\n",
       "      <td>...</td>\n",
       "      <td>...</td>\n",
       "      <td>...</td>\n",
       "      <td>...</td>\n",
       "      <td>...</td>\n",
       "      <td>...</td>\n",
       "      <td>...</td>\n",
       "      <td>...</td>\n",
       "      <td>...</td>\n",
       "      <td>...</td>\n",
       "    </tr>\n",
       "    <tr>\n",
       "      <th>21604</th>\n",
       "      <td>360000.0</td>\n",
       "      <td>3</td>\n",
       "      <td>2.50</td>\n",
       "      <td>1530.0</td>\n",
       "      <td>1131.0</td>\n",
       "      <td>3.0</td>\n",
       "      <td>0</td>\n",
       "      <td>8</td>\n",
       "      <td>1530.0</td>\n",
       "      <td>0</td>\n",
       "      <td>...</td>\n",
       "      <td>0</td>\n",
       "      <td>1</td>\n",
       "      <td>0</td>\n",
       "      <td>0</td>\n",
       "      <td>0</td>\n",
       "      <td>0</td>\n",
       "      <td>0</td>\n",
       "      <td>0</td>\n",
       "      <td>511618.558147</td>\n",
       "      <td>537584.082097</td>\n",
       "    </tr>\n",
       "    <tr>\n",
       "      <th>21605</th>\n",
       "      <td>400000.0</td>\n",
       "      <td>4</td>\n",
       "      <td>2.50</td>\n",
       "      <td>2310.0</td>\n",
       "      <td>5813.0</td>\n",
       "      <td>2.0</td>\n",
       "      <td>0</td>\n",
       "      <td>8</td>\n",
       "      <td>2310.0</td>\n",
       "      <td>0</td>\n",
       "      <td>...</td>\n",
       "      <td>0</td>\n",
       "      <td>0</td>\n",
       "      <td>0</td>\n",
       "      <td>0</td>\n",
       "      <td>0</td>\n",
       "      <td>0</td>\n",
       "      <td>0</td>\n",
       "      <td>0</td>\n",
       "      <td>511618.558147</td>\n",
       "      <td>537584.082097</td>\n",
       "    </tr>\n",
       "    <tr>\n",
       "      <th>21606</th>\n",
       "      <td>402101.0</td>\n",
       "      <td>2</td>\n",
       "      <td>0.75</td>\n",
       "      <td>1020.0</td>\n",
       "      <td>1350.0</td>\n",
       "      <td>2.0</td>\n",
       "      <td>0</td>\n",
       "      <td>7</td>\n",
       "      <td>1020.0</td>\n",
       "      <td>0</td>\n",
       "      <td>...</td>\n",
       "      <td>0</td>\n",
       "      <td>1</td>\n",
       "      <td>0</td>\n",
       "      <td>0</td>\n",
       "      <td>0</td>\n",
       "      <td>0</td>\n",
       "      <td>0</td>\n",
       "      <td>0</td>\n",
       "      <td>511618.558147</td>\n",
       "      <td>402239.619779</td>\n",
       "    </tr>\n",
       "    <tr>\n",
       "      <th>21607</th>\n",
       "      <td>400000.0</td>\n",
       "      <td>3</td>\n",
       "      <td>2.50</td>\n",
       "      <td>1600.0</td>\n",
       "      <td>2388.0</td>\n",
       "      <td>2.0</td>\n",
       "      <td>0</td>\n",
       "      <td>8</td>\n",
       "      <td>1600.0</td>\n",
       "      <td>0</td>\n",
       "      <td>...</td>\n",
       "      <td>0</td>\n",
       "      <td>0</td>\n",
       "      <td>1</td>\n",
       "      <td>0</td>\n",
       "      <td>0</td>\n",
       "      <td>0</td>\n",
       "      <td>0</td>\n",
       "      <td>0</td>\n",
       "      <td>511618.558147</td>\n",
       "      <td>537584.082097</td>\n",
       "    </tr>\n",
       "    <tr>\n",
       "      <th>21608</th>\n",
       "      <td>325000.0</td>\n",
       "      <td>2</td>\n",
       "      <td>0.75</td>\n",
       "      <td>1020.0</td>\n",
       "      <td>1076.0</td>\n",
       "      <td>2.0</td>\n",
       "      <td>0</td>\n",
       "      <td>7</td>\n",
       "      <td>1020.0</td>\n",
       "      <td>0</td>\n",
       "      <td>...</td>\n",
       "      <td>0</td>\n",
       "      <td>1</td>\n",
       "      <td>0</td>\n",
       "      <td>0</td>\n",
       "      <td>0</td>\n",
       "      <td>0</td>\n",
       "      <td>0</td>\n",
       "      <td>0</td>\n",
       "      <td>511618.558147</td>\n",
       "      <td>402239.619779</td>\n",
       "    </tr>\n",
       "  </tbody>\n",
       "</table>\n",
       "<p>21609 rows × 33 columns</p>\n",
       "</div>"
      ],
      "text/plain": [
       "       Sale_Price  No of Bedrooms  No of Bathrooms  Flat Area (in Sqft)  \\\n",
       "0        221900.0               3             1.00               1180.0   \n",
       "1        538000.0               3             2.25               2570.0   \n",
       "2        180000.0               2             1.00                770.0   \n",
       "3        604000.0               4             3.00               1960.0   \n",
       "4        510000.0               3             2.00               1680.0   \n",
       "...           ...             ...              ...                  ...   \n",
       "21604    360000.0               3             2.50               1530.0   \n",
       "21605    400000.0               4             2.50               2310.0   \n",
       "21606    402101.0               2             0.75               1020.0   \n",
       "21607    400000.0               3             2.50               1600.0   \n",
       "21608    325000.0               2             0.75               1020.0   \n",
       "\n",
       "       Lot Area (in Sqft)  No of Floors  No of Times Visited  Overall Grade  \\\n",
       "0                  5650.0           1.0                    0              7   \n",
       "1                  7242.0           2.0                    0              7   \n",
       "2                 10000.0           1.0                    0              6   \n",
       "3                  5000.0           1.0                    0              7   \n",
       "4                  8080.0           1.0                    0              8   \n",
       "...                   ...           ...                  ...            ...   \n",
       "21604              1131.0           3.0                    0              8   \n",
       "21605              5813.0           2.0                    0              8   \n",
       "21606              1350.0           2.0                    0              7   \n",
       "21607              2388.0           2.0                    0              8   \n",
       "21608              1076.0           2.0                    0              7   \n",
       "\n",
       "       Area of the House from Basement (in Sqft)  Basement Area (in Sqft)  \\\n",
       "0                                         1180.0                        0   \n",
       "1                                         2170.0                      400   \n",
       "2                                          770.0                        0   \n",
       "3                                         1050.0                      910   \n",
       "4                                         1680.0                        0   \n",
       "...                                          ...                      ...   \n",
       "21604                                     1530.0                        0   \n",
       "21605                                     2310.0                        0   \n",
       "21606                                     1020.0                        0   \n",
       "21607                                     1600.0                        0   \n",
       "21608                                     1020.0                        0   \n",
       "\n",
       "       ...  Zipcode_Group_Zipcode_Group_2  Zipcode_Group_Zipcode_Group_3  \\\n",
       "0      ...                              0                              0   \n",
       "1      ...                              1                              0   \n",
       "2      ...                              1                              0   \n",
       "3      ...                              0                              1   \n",
       "4      ...                              0                              0   \n",
       "...    ...                            ...                            ...   \n",
       "21604  ...                              0                              1   \n",
       "21605  ...                              0                              0   \n",
       "21606  ...                              0                              1   \n",
       "21607  ...                              0                              0   \n",
       "21608  ...                              0                              1   \n",
       "\n",
       "       Zipcode_Group_Zipcode_Group_4  Zipcode_Group_Zipcode_Group_5  \\\n",
       "0                                  0                              0   \n",
       "1                                  0                              0   \n",
       "2                                  0                              0   \n",
       "3                                  0                              0   \n",
       "4                                  1                              0   \n",
       "...                              ...                            ...   \n",
       "21604                              0                              0   \n",
       "21605                              0                              0   \n",
       "21606                              0                              0   \n",
       "21607                              1                              0   \n",
       "21608                              0                              0   \n",
       "\n",
       "       Zipcode_Group_Zipcode_Group_6  Zipcode_Group_Zipcode_Group_7  \\\n",
       "0                                  0                              0   \n",
       "1                                  0                              0   \n",
       "2                                  0                              0   \n",
       "3                                  0                              0   \n",
       "4                                  0                              0   \n",
       "...                              ...                            ...   \n",
       "21604                              0                              0   \n",
       "21605                              0                              0   \n",
       "21606                              0                              0   \n",
       "21607                              0                              0   \n",
       "21608                              0                              0   \n",
       "\n",
       "       Zipcode_Group_Zipcode_Group_8  Zipcode_Group_Zipcode_Group_9  \\\n",
       "0                                  0                              0   \n",
       "1                                  0                              0   \n",
       "2                                  0                              0   \n",
       "3                                  0                              0   \n",
       "4                                  0                              0   \n",
       "...                              ...                            ...   \n",
       "21604                              0                              0   \n",
       "21605                              0                              0   \n",
       "21606                              0                              0   \n",
       "21607                              0                              0   \n",
       "21608                              0                              0   \n",
       "\n",
       "          mean_sales     grade_mean  \n",
       "0      511618.558147  402239.619779  \n",
       "1      511618.558147  402239.619779  \n",
       "2      511618.558147  301882.014720  \n",
       "3      511618.558147  402239.619779  \n",
       "4      511618.558147  537584.082097  \n",
       "...              ...            ...  \n",
       "21604  511618.558147  537584.082097  \n",
       "21605  511618.558147  537584.082097  \n",
       "21606  511618.558147  402239.619779  \n",
       "21607  511618.558147  537584.082097  \n",
       "21608  511618.558147  402239.619779  \n",
       "\n",
       "[21609 rows x 33 columns]"
      ]
     },
     "execution_count": 38,
     "metadata": {},
     "output_type": "execute_result"
    }
   ],
   "source": [
    "Raw_Housing_Data"
   ]
  },
  {
   "cell_type": "code",
   "execution_count": 105,
   "id": "da4bf74a",
   "metadata": {},
   "outputs": [
    {
     "data": {
      "text/html": [
       "<div>\n",
       "<style scoped>\n",
       "    .dataframe tbody tr th:only-of-type {\n",
       "        vertical-align: middle;\n",
       "    }\n",
       "\n",
       "    .dataframe tbody tr th {\n",
       "        vertical-align: top;\n",
       "    }\n",
       "\n",
       "    .dataframe thead th {\n",
       "        text-align: right;\n",
       "    }\n",
       "</style>\n",
       "<table border=\"1\" class=\"dataframe\">\n",
       "  <thead>\n",
       "    <tr style=\"text-align: right;\">\n",
       "      <th></th>\n",
       "      <th>sale_price</th>\n",
       "      <th>flat_area</th>\n",
       "    </tr>\n",
       "  </thead>\n",
       "  <tbody>\n",
       "    <tr>\n",
       "      <th>0</th>\n",
       "      <td>221900.0</td>\n",
       "      <td>1180.0</td>\n",
       "    </tr>\n",
       "    <tr>\n",
       "      <th>1</th>\n",
       "      <td>538000.0</td>\n",
       "      <td>2570.0</td>\n",
       "    </tr>\n",
       "    <tr>\n",
       "      <th>2</th>\n",
       "      <td>180000.0</td>\n",
       "      <td>770.0</td>\n",
       "    </tr>\n",
       "    <tr>\n",
       "      <th>3</th>\n",
       "      <td>604000.0</td>\n",
       "      <td>1960.0</td>\n",
       "    </tr>\n",
       "    <tr>\n",
       "      <th>4</th>\n",
       "      <td>510000.0</td>\n",
       "      <td>1680.0</td>\n",
       "    </tr>\n",
       "    <tr>\n",
       "      <th>5</th>\n",
       "      <td>1129575.0</td>\n",
       "      <td>5420.0</td>\n",
       "    </tr>\n",
       "    <tr>\n",
       "      <th>6</th>\n",
       "      <td>257500.0</td>\n",
       "      <td>1715.0</td>\n",
       "    </tr>\n",
       "    <tr>\n",
       "      <th>7</th>\n",
       "      <td>291850.0</td>\n",
       "      <td>1060.0</td>\n",
       "    </tr>\n",
       "    <tr>\n",
       "      <th>8</th>\n",
       "      <td>229500.0</td>\n",
       "      <td>1780.0</td>\n",
       "    </tr>\n",
       "    <tr>\n",
       "      <th>9</th>\n",
       "      <td>323000.0</td>\n",
       "      <td>1890.0</td>\n",
       "    </tr>\n",
       "    <tr>\n",
       "      <th>10</th>\n",
       "      <td>662500.0</td>\n",
       "      <td>3560.0</td>\n",
       "    </tr>\n",
       "    <tr>\n",
       "      <th>11</th>\n",
       "      <td>468000.0</td>\n",
       "      <td>1160.0</td>\n",
       "    </tr>\n",
       "    <tr>\n",
       "      <th>12</th>\n",
       "      <td>310000.0</td>\n",
       "      <td>1430.0</td>\n",
       "    </tr>\n",
       "    <tr>\n",
       "      <th>13</th>\n",
       "      <td>400000.0</td>\n",
       "      <td>1370.0</td>\n",
       "    </tr>\n",
       "    <tr>\n",
       "      <th>14</th>\n",
       "      <td>530000.0</td>\n",
       "      <td>1810.0</td>\n",
       "    </tr>\n",
       "    <tr>\n",
       "      <th>15</th>\n",
       "      <td>650000.0</td>\n",
       "      <td>2950.0</td>\n",
       "    </tr>\n",
       "    <tr>\n",
       "      <th>16</th>\n",
       "      <td>395000.0</td>\n",
       "      <td>1890.0</td>\n",
       "    </tr>\n",
       "    <tr>\n",
       "      <th>17</th>\n",
       "      <td>485000.0</td>\n",
       "      <td>1600.0</td>\n",
       "    </tr>\n",
       "    <tr>\n",
       "      <th>18</th>\n",
       "      <td>189000.0</td>\n",
       "      <td>1200.0</td>\n",
       "    </tr>\n",
       "    <tr>\n",
       "      <th>19</th>\n",
       "      <td>230000.0</td>\n",
       "      <td>1250.0</td>\n",
       "    </tr>\n",
       "    <tr>\n",
       "      <th>20</th>\n",
       "      <td>385000.0</td>\n",
       "      <td>1620.0</td>\n",
       "    </tr>\n",
       "    <tr>\n",
       "      <th>21</th>\n",
       "      <td>1129575.0</td>\n",
       "      <td>3050.0</td>\n",
       "    </tr>\n",
       "    <tr>\n",
       "      <th>22</th>\n",
       "      <td>285000.0</td>\n",
       "      <td>2270.0</td>\n",
       "    </tr>\n",
       "    <tr>\n",
       "      <th>23</th>\n",
       "      <td>252700.0</td>\n",
       "      <td>1070.0</td>\n",
       "    </tr>\n",
       "    <tr>\n",
       "      <th>24</th>\n",
       "      <td>329000.0</td>\n",
       "      <td>2450.0</td>\n",
       "    </tr>\n",
       "    <tr>\n",
       "      <th>25</th>\n",
       "      <td>233000.0</td>\n",
       "      <td>1710.0</td>\n",
       "    </tr>\n",
       "    <tr>\n",
       "      <th>26</th>\n",
       "      <td>937000.0</td>\n",
       "      <td>2450.0</td>\n",
       "    </tr>\n",
       "    <tr>\n",
       "      <th>27</th>\n",
       "      <td>667000.0</td>\n",
       "      <td>1400.0</td>\n",
       "    </tr>\n",
       "    <tr>\n",
       "      <th>28</th>\n",
       "      <td>438000.0</td>\n",
       "      <td>1520.0</td>\n",
       "    </tr>\n",
       "    <tr>\n",
       "      <th>29</th>\n",
       "      <td>719000.0</td>\n",
       "      <td>2570.0</td>\n",
       "    </tr>\n",
       "  </tbody>\n",
       "</table>\n",
       "</div>"
      ],
      "text/plain": [
       "    sale_price  flat_area\n",
       "0     221900.0     1180.0\n",
       "1     538000.0     2570.0\n",
       "2     180000.0      770.0\n",
       "3     604000.0     1960.0\n",
       "4     510000.0     1680.0\n",
       "5    1129575.0     5420.0\n",
       "6     257500.0     1715.0\n",
       "7     291850.0     1060.0\n",
       "8     229500.0     1780.0\n",
       "9     323000.0     1890.0\n",
       "10    662500.0     3560.0\n",
       "11    468000.0     1160.0\n",
       "12    310000.0     1430.0\n",
       "13    400000.0     1370.0\n",
       "14    530000.0     1810.0\n",
       "15    650000.0     2950.0\n",
       "16    395000.0     1890.0\n",
       "17    485000.0     1600.0\n",
       "18    189000.0     1200.0\n",
       "19    230000.0     1250.0\n",
       "20    385000.0     1620.0\n",
       "21   1129575.0     3050.0\n",
       "22    285000.0     2270.0\n",
       "23    252700.0     1070.0\n",
       "24    329000.0     2450.0\n",
       "25    233000.0     1710.0\n",
       "26    937000.0     2450.0\n",
       "27    667000.0     1400.0\n",
       "28    438000.0     1520.0\n",
       "29    719000.0     2570.0"
      ]
     },
     "execution_count": 105,
     "metadata": {},
     "output_type": "execute_result"
    }
   ],
   "source": [
    "sale_price=Raw_Housing_Data['Sale_Price'].head(30)\n",
    "flat_area=Raw_Housing_Data['Flat Area (in Sqft)'].head(30)\n",
    "sample_data=pd.DataFrame({'sale_price':sale_price, 'flat_area':flat_area})\n",
    "sample_data\n"
   ]
  },
  {
   "cell_type": "code",
   "execution_count": 106,
   "id": "63f630ff",
   "metadata": {},
   "outputs": [
    {
     "name": "stderr",
     "output_type": "stream",
     "text": [
      "No handles with labels found to put in legend.\n"
     ]
    },
    {
     "data": {
      "image/png": "[encoded data removed]",
      "text/plain": [
       "<Figure size 900x600 with 1 Axes>"
      ]
     },
     "metadata": {
      "needs_background": "light"
     },
     "output_type": "display_data"
    }
   ],
   "source": [
    "plt.figure(dpi=150)\n",
    "plt.scatter(sample_data.flat_area,sample_data.sale_price,color='red')\n",
    "plt.xlabel('Flat Area')\n",
    "plt.ylabel('Sale Price')\n",
    "plt.title('Sale Price/Flat area')\n",
    "plt.legend()\n",
    "plt.show()"
   ]
  },
  {
   "cell_type": "code",
   "execution_count": 110,
   "id": "bbe9e5de",
   "metadata": {},
   "outputs": [
    {
     "data": {
      "image/png": "[encoded data removed]",
      "text/plain": [
       "<Figure size 900x600 with 1 Axes>"
      ]
     },
     "metadata": {
      "needs_background": "light"
     },
     "output_type": "display_data"
    }
   ],
   "source": [
    "import matplotlib.pyplot as plt\n",
    "sample_data['mean_sale_price']=sample_data.sale_price.mean()\n",
    "plt.figure(dpi=150)\n",
    "plt.scatter(sample_data.flat_area,sample_data.sale_price,color='red')\n",
    "plt.plot(sample_data.flat_area,sample_data.mean_sale_price,color='yellow',label='Mean Sale Price')\n",
    "plt.xlabel('Flat Area')\n",
    "plt.ylabel('Sale Price')\n",
    "plt.title('Sale Price/Flat area')\n",
    "plt.legend()\n",
    "plt.show()\n"
   ]
  },
  {
   "cell_type": "code",
   "execution_count": 127,
   "id": "fe8b1bf3",
   "metadata": {},
   "outputs": [
    {
     "ename": "NameError",
     "evalue": "name 'mse' is not defined",
     "output_type": "error",
     "traceback": [
      "\u001b[1;31m---------------------------------------------------------------------------\u001b[0m",
      "\u001b[1;31mNameError\u001b[0m                                 Traceback (most recent call last)",
      "\u001b[1;32m<ipython-input-127-f088df220f2f>\u001b[0m in \u001b[0;36m<module>\u001b[1;34m\u001b[0m\n\u001b[0;32m     10\u001b[0m \u001b[0mplt\u001b[0m\u001b[1;33m.\u001b[0m\u001b[0mylabel\u001b[0m\u001b[1;33m(\u001b[0m\u001b[1;34m''\u001b[0m\u001b[1;33m)\u001b[0m\u001b[1;33m\u001b[0m\u001b[1;33m\u001b[0m\u001b[0m\n\u001b[0;32m     11\u001b[0m \u001b[0mplt\u001b[0m\u001b[1;33m.\u001b[0m\u001b[0mlegend\u001b[0m\u001b[1;33m(\u001b[0m\u001b[1;33m)\u001b[0m\u001b[1;33m\u001b[0m\u001b[1;33m\u001b[0m\u001b[0m\n\u001b[1;32m---> 12\u001b[1;33m \u001b[0mMSE\u001b[0m\u001b[1;33m=\u001b[0m\u001b[0mmse\u001b[0m\u001b[1;33m(\u001b[0m\u001b[0msample_data\u001b[0m\u001b[1;33m.\u001b[0m\u001b[0msale_price\u001b[0m\u001b[1;33m,\u001b[0m\u001b[0mline\u001b[0m\u001b[1;33m)\u001b[0m\u001b[1;33m\u001b[0m\u001b[1;33m\u001b[0m\u001b[0m\n\u001b[0m\u001b[0;32m     13\u001b[0m \u001b[0mplt\u001b[0m\u001b[1;33m.\u001b[0m\u001b[0mtitle\u001b[0m\u001b[1;33m(\u001b[0m\u001b[1;34m\"slope\"\u001b[0m\u001b[1;33m+\u001b[0m\u001b[0mstr\u001b[0m\u001b[1;33m(\u001b[0m\u001b[0mm\u001b[0m\u001b[1;33m)\u001b[0m\u001b[1;33m+\u001b[0m\u001b[1;34m\"with mse\"\u001b[0m\u001b[1;33m+\u001b[0m\u001b[0mstr\u001b[0m\u001b[1;33m(\u001b[0m\u001b[0mMSE\u001b[0m\u001b[1;33m)\u001b[0m\u001b[1;33m)\u001b[0m\u001b[1;33m\u001b[0m\u001b[1;33m\u001b[0m\u001b[0m\n\u001b[0;32m     14\u001b[0m \u001b[1;33m\u001b[0m\u001b[0m\n",
      "\u001b[1;31mNameError\u001b[0m: name 'mse' is not defined"
     ]
    },
    {
     "data": {
      "image/png": "[encoded data removed]",
      "text/plain": [
       "<Figure size 600x400 with 1 Axes>"
      ]
     },
     "metadata": {
      "needs_background": "light"
     },
     "output_type": "display_data"
    }
   ],
   "source": [
    "c=0\n",
    "m=50\n",
    "line=[]\n",
    "for i in range(len(sample_data)):\n",
    "    line.append(sample_data.flat_area[i]*m+c)\n",
    "plt.figure(dpi=100)\n",
    "plt.scatter(sample_data.flat_area,sample_data.sale_price)\n",
    "plt.plot(sample_data.flat_area,line,label='m=0.0;c=0')\n",
    "plt.xlabel('')\n",
    "plt.ylabel('')\n",
    "plt.legend()\n",
    "MSE=mse(sample_data.sale_price,line)\n",
    "plt.title(\"slope\"+str(m)+\"with mse\"+str(MSE))\n",
    "                \n",
    "                "
   ]
  },
  {
   "cell_type": "code",
   "execution_count": 129,
   "id": "4b0c702d",
   "metadata": {},
   "outputs": [],
   "source": [
    "def slope_error(slope,intercept,sample_data):\n",
    "    sale=[]\n",
    "    for i in range(len(sample_data.flat_area)):\n",
    "        tmp=sample_data.flat_area[i]*slope+intercept\n",
    "        sale.append(tmp)\n",
    "        MSE=mse(sample_data,sale_price,sale)\n",
    "        return MSE"
   ]
  },
  {
   "cell_type": "code",
   "execution_count": 132,
   "id": "e60cbd5e",
   "metadata": {},
   "outputs": [
    {
     "ename": "NameError",
     "evalue": "name 'mse' is not defined",
     "output_type": "error",
     "traceback": [
      "\u001b[1;31m---------------------------------------------------------------------------\u001b[0m",
      "\u001b[1;31mNameError\u001b[0m                                 Traceback (most recent call last)",
      "\u001b[1;32m<ipython-input-132-d495385519b5>\u001b[0m in \u001b[0;36m<module>\u001b[1;34m\u001b[0m\n\u001b[0;32m      2\u001b[0m \u001b[0mCost\u001b[0m\u001b[1;33m=\u001b[0m\u001b[1;33m[\u001b[0m\u001b[1;33m]\u001b[0m\u001b[1;33m\u001b[0m\u001b[1;33m\u001b[0m\u001b[0m\n\u001b[0;32m      3\u001b[0m \u001b[1;32mfor\u001b[0m \u001b[0mi\u001b[0m \u001b[1;32min\u001b[0m \u001b[0mslope\u001b[0m\u001b[1;33m:\u001b[0m\u001b[1;33m\u001b[0m\u001b[1;33m\u001b[0m\u001b[0m\n\u001b[1;32m----> 4\u001b[1;33m     \u001b[0mCost\u001b[0m\u001b[1;33m=\u001b[0m\u001b[0mslope_error\u001b[0m\u001b[1;33m(\u001b[0m\u001b[0mslope\u001b[0m\u001b[1;33m=\u001b[0m\u001b[0mi\u001b[0m\u001b[1;33m,\u001b[0m\u001b[0mintercept\u001b[0m\u001b[1;33m=\u001b[0m\u001b[1;36m0\u001b[0m\u001b[1;33m,\u001b[0m\u001b[0msample_data\u001b[0m\u001b[1;33m=\u001b[0m\u001b[0msample_data\u001b[0m\u001b[1;33m)\u001b[0m\u001b[1;33m\u001b[0m\u001b[1;33m\u001b[0m\u001b[0m\n\u001b[0m\u001b[0;32m      5\u001b[0m     \u001b[0mCost\u001b[0m\u001b[1;33m.\u001b[0m\u001b[0mappend\u001b[0m\u001b[1;33m(\u001b[0m\u001b[0mCost\u001b[0m\u001b[1;33m)\u001b[0m\u001b[1;33m\u001b[0m\u001b[1;33m\u001b[0m\u001b[0m\n",
      "\u001b[1;32m<ipython-input-129-decb818d1386>\u001b[0m in \u001b[0;36mslope_error\u001b[1;34m(slope, intercept, sample_data)\u001b[0m\n\u001b[0;32m      4\u001b[0m         \u001b[0mtmp\u001b[0m\u001b[1;33m=\u001b[0m\u001b[0msample_data\u001b[0m\u001b[1;33m.\u001b[0m\u001b[0mflat_area\u001b[0m\u001b[1;33m[\u001b[0m\u001b[0mi\u001b[0m\u001b[1;33m]\u001b[0m\u001b[1;33m*\u001b[0m\u001b[0mslope\u001b[0m\u001b[1;33m+\u001b[0m\u001b[0mintercept\u001b[0m\u001b[1;33m\u001b[0m\u001b[1;33m\u001b[0m\u001b[0m\n\u001b[0;32m      5\u001b[0m         \u001b[0msale\u001b[0m\u001b[1;33m.\u001b[0m\u001b[0mappend\u001b[0m\u001b[1;33m(\u001b[0m\u001b[0mtmp\u001b[0m\u001b[1;33m)\u001b[0m\u001b[1;33m\u001b[0m\u001b[1;33m\u001b[0m\u001b[0m\n\u001b[1;32m----> 6\u001b[1;33m         \u001b[0mMSE\u001b[0m\u001b[1;33m=\u001b[0m\u001b[0mmse\u001b[0m\u001b[1;33m(\u001b[0m\u001b[0msample_data\u001b[0m\u001b[1;33m,\u001b[0m\u001b[0msale_price\u001b[0m\u001b[1;33m,\u001b[0m\u001b[0msale\u001b[0m\u001b[1;33m)\u001b[0m\u001b[1;33m\u001b[0m\u001b[1;33m\u001b[0m\u001b[0m\n\u001b[0m\u001b[0;32m      7\u001b[0m         \u001b[1;32mreturn\u001b[0m \u001b[0mMSE\u001b[0m\u001b[1;33m\u001b[0m\u001b[1;33m\u001b[0m\u001b[0m\n",
      "\u001b[1;31mNameError\u001b[0m: name 'mse' is not defined"
     ]
    }
   ],
   "source": [
    "slope=[i/100 for i in range(0,5000)]\n",
    "Cost=[]\n",
    "for i in slope:\n",
    "    Cost=slope_error(slope=i,intercept=0,sample_data=sample_data)\n",
    "    Cost.append(Cost)"
   ]
  },
  {
   "cell_type": "code",
   "execution_count": 133,
   "id": "4056ba3a",
   "metadata": {},
   "outputs": [],
   "source": [
    "##GRADIENT DESCENT ALGORITHM IN PYTHON\n",
    "def param_init(Y):\n",
    "    m=0.1\n",
    "    c=Y.mean()\n",
    "    return m,c\n"
   ]
  },
  {
   "cell_type": "code",
   "execution_count": 135,
   "id": "3e2cc33f",
   "metadata": {},
   "outputs": [
    {
     "ename": "SyntaxError",
     "evalue": "invalid syntax (<ipython-input-135-ba46894b36c1>, line 1)",
     "output_type": "error",
     "traceback": [
      "\u001b[1;36m  File \u001b[1;32m\"<ipython-input-135-ba46894b36c1>\"\u001b[1;36m, line \u001b[1;32m1\u001b[0m\n\u001b[1;33m    def generate_predictions(m,c,X)\u001b[0m\n\u001b[1;37m                                   ^\u001b[0m\n\u001b[1;31mSyntaxError\u001b[0m\u001b[1;31m:\u001b[0m invalid syntax\n"
     ]
    }
   ],
   "source": [
    "def generate_predictions(m,c,X)\n",
    "prediction=[]\n",
    "for x in X:\n",
    "    pred=(m*X)+c\n",
    "    prediction.append(pred)\n",
    "    return prediction"
   ]
  },
  {
   "cell_type": "code",
   "execution_count": 137,
   "id": "2cfc58a7",
   "metadata": {},
   "outputs": [],
   "source": [
    "def compute_cost(porediction,Y):\n",
    "    cost=np.sum((prediction-Y)**2)/len(Y)\n",
    "    return cost"
   ]
  },
  {
   "cell_type": "code",
   "execution_count": 138,
   "id": "05dc2186",
   "metadata": {},
   "outputs": [],
   "source": [
    "def gradients(predictions,Y,X):\n",
    "    n=len(y)\n",
    "    Gm=2/n*np.sum((prediction-Y)*X)\n",
    "    Gc=2/n*np.sum((prediction-Y)**X)\n",
    "    return Gm,Gc"
   ]
  },
  {
   "cell_type": "code",
   "execution_count": 139,
   "id": "efab8d34",
   "metadata": {},
   "outputs": [],
   "source": [
    "def parameter_update(m_old,c_old,Gm_old,Gc_old,alpha):\n",
    "    m_new=m_old-alpha*Gm_old\n",
    "    c_new=c_old_aplha*Gc_old\n",
    "    return m_new,c_new"
   ]
  },
  {
   "cell_type": "code",
   "execution_count": 141,
   "id": "adb7be87",
   "metadata": {},
   "outputs": [
    {
     "ename": "SyntaxError",
     "evalue": "invalid syntax (<ipython-input-141-c50f50b515ad>, line 1)",
     "output_type": "error",
     "traceback": [
      "\u001b[1;36m  File \u001b[1;32m\"<ipython-input-141-c50f50b515ad>\"\u001b[1;36m, line \u001b[1;32m1\u001b[0m\n\u001b[1;33m    def result(m,c,X,Y,cost,prediction,i)\u001b[0m\n\u001b[1;37m                                         ^\u001b[0m\n\u001b[1;31mSyntaxError\u001b[0m\u001b[1;31m:\u001b[0m invalid syntax\n"
     ]
    }
   ],
   "source": [
    "def result(m,c,X,Y,cost,prediction,i)\n",
    "if(i<max_iter-1):\n",
    "    print(\" \".format(i)\n",
    "else:\n",
    "    print(\" \",max_iter,'')"
   ]
  },
  {
   "cell_type": "code",
   "execution_count": 169,
   "id": "1ec34b71",
   "metadata": {},
   "outputs": [
    {
     "ename": "SyntaxError",
     "evalue": "invalid syntax (<ipython-input-169-6cd166901c1c>, line 18)",
     "output_type": "error",
     "traceback": [
      "\u001b[1;36m  File \u001b[1;32m\"<ipython-input-169-6cd166901c1c>\"\u001b[1;36m, line \u001b[1;32m18\u001b[0m\n\u001b[1;33m    print('after iterations,i,';m=',;c=',c,';cost='cost_new')\u001b[0m\n\u001b[1;37m                               ^\u001b[0m\n\u001b[1;31mSyntaxError\u001b[0m\u001b[1;31m:\u001b[0m invalid syntax\n"
     ]
    }
   ],
   "source": [
    "##scaling the dataset using StandardScaler\n",
    "from sklearn.preprocessing import StandardScaler\n",
    "scaler=StandardScaler()\n",
    "sale_price=scaler.fit_transform(sample_data['sale_price'].values.reshape(-1,1))\n",
    "flat_area=scaler.fit_transform(sample_data['flat_area'].values.reshpae(-1,1))\n",
    "max_iter=1000\n",
    "cost_old=0\n",
    "alpha=0.01\n",
    "m,c=param_init(sale_price3)\n",
    "for i in range(0,max_iter):\n",
    "    predictions=generate_predictions(m,c,flat_area)\n",
    "    cost_new=compute_cost(predictions,sale_price)\n",
    "    if abs(cost_new-cost_old)<10**(-7):\n",
    "       break\n",
    "Gm,GFc=gradients(predictions,sale_price,flat_area)\n",
    "m,c=param_update(m,c,Gm,Gc,alpha)\n",
    "if i%20==0:\n",
    " print('after iterations,i,';m=',;c=',c,';cost='cost_new')\n",
    "result(m,c,flat_area,sale_price,cost_new,predictions,i)\n",
    "       \n",
    "       \n",
    "       \n",
    "       \n",
    "       "
   ]
  },
  {
   "cell_type": "code",
   "execution_count": null,
   "id": "15150501",
   "metadata": {},
   "outputs": [],
   "source": [
    ")"
   ]
  }
 ],
 "metadata": {
  "kernelspec": {
   "display_name": "Python 3",
   "language": "python",
   "name": "python3"
  },
  "language_info": {
   "codemirror_mode": {
    "name": "ipython",
    "version": 3
   },
   "file_extension": ".py",
   "mimetype": "text/x-python",
   "name": "python",
   "nbconvert_exporter": "python",
   "pygments_lexer": "ipython3",
   "version": "3.8.8"
  }
 },
 "nbformat": 4,
 "nbformat_minor": 5
}
